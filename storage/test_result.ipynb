{
 "cells": [
  {
   "cell_type": "code",
   "execution_count": 1,
   "metadata": {},
   "outputs": [],
   "source": [
    "import pandas as pd"
   ]
  },
  {
   "cell_type": "code",
   "execution_count": 3,
   "metadata": {},
   "outputs": [],
   "source": [
    "df=pd.read_json('crawl_new_aid/result_30_crawl_new_aid.json')"
   ]
  },
  {
   "cell_type": "code",
   "execution_count": 7,
   "metadata": {},
   "outputs": [
    {
     "data": {
      "text/plain": [
       "['http://www.city.abiko.chiba.jp/kurashi/corona_kyufu/index.html',\n",
       " 'http://www.city.abiko.chiba.jp/kurashi/nenkin/index.html',\n",
       " 'http://www.city.abiko.chiba.jp/kurashi/mynumber/index.html',\n",
       " 'http://www.city.abiko.chiba.jp/kurashi/zeikin/index.html',\n",
       " 'http://www.city.abiko.chiba.jp/kurashi/kokuho/index.html',\n",
       " 'http://www.city.abiko.chiba.jp/kenko/seikatsushien/index.html',\n",
       " 'http://www.city.abiko.chiba.jp/kurashi/sumai/josei/index.html',\n",
       " 'http://www.city.abiko.chiba.jp/kurashi/sumai/seido/index.html',\n",
       " 'http://www.city.abiko.chiba.jp/kurashi/kokuho/kokuho_sonota/index.html',\n",
       " 'http://www.city.abiko.chiba.jp/kurashi/faq/zei_hoken/kokuminkenkohoken/kanyu_dattai/index.html',\n",
       " 'http://www.city.abiko.chiba.jp/kurashi/faq/zei_hoken/kokuminkenkohoken/hokenzei/index.html',\n",
       " 'http://www.city.abiko.chiba.jp/kurashi/faq/zei_hoken/kokuminkenkohoken/kyufu/index.html',\n",
       " 'http://www.city.abiko.chiba.jp/kurashi/sumai/josei/reform/index.html',\n",
       " 'http://www.city.abiko.chiba.jp/kenko/shogaishafukushi/josei_service/index.html',\n",
       " 'http://www.city.abiko.chiba.jp/kenko/shogaishafukushi/shogai/syogaisya_syuroshien/index.html',\n",
       " 'http://www.city.abiko.chiba.jp/kenko/shogaishafukushi/josei_service/service/index.html',\n",
       " 'http://www.city.abiko.chiba.jp/kenko/shogaishafukushi/josei_service/shogai_teate/index.html',\n",
       " 'http://www.city.abiko.chiba.jp/kenko/koukikoureisha/seido/index.html',\n",
       " 'http://www.city.abiko.chiba.jp/kenko/kaigoihoken/seido/index.html',\n",
       " 'http://www.city.abiko.chiba.jp/kurashi/kokuho/hojoseido/index.html',\n",
       " 'http://www.city.abiko.chiba.jp/kurashi/kokuho/sanshutsu_noufu/index.html',\n",
       " 'http://www.city.abiko.chiba.jp/kurashi/kokuho/kyufu/index.html',\n",
       " 'http://www.city.abiko.chiba.jp/kurashi/kokuho/kokuho_kanyu/index.html',\n",
       " 'http://www.city.abiko.chiba.jp/kurashi/kokuho/kokuho_seido/index.html',\n",
       " 'http://www.city.abiko.chiba.jp/kurashi/kokuho/kokuho_info/index.html',\n",
       " 'http://www.city.abiko.chiba.jp/kenko/kaigoihoken/careservice_provider/homecare_support/index.html',\n",
       " 'http://www.city.abiko.chiba.jp/kenko/kaigoihoken/careservice_provider/kaigoyobo/index.html',\n",
       " 'http://www.city.abiko.chiba.jp/kurashi/kotsu_douro/jiko/index.html',\n",
       " 'http://www.city.abiko.chiba.jp/kurashi/nenkin/izokukiso/index.html',\n",
       " 'http://www.city.abiko.chiba.jp/kurashi/nenkin/shogaikiso/index.html',\n",
       " 'http://www.city.abiko.chiba.jp/kurashi/nenkin/noufu_menjo/index.html',\n",
       " 'http://www.city.abiko.chiba.jp/kurashi/nenkin/seido_tetsuduki/index.html',\n",
       " 'http://www.city.abiko.chiba.jp/kurashi/gomi_shigen/hojokin_sonota/index.html',\n",
       " 'http://www.city.abiko.chiba.jp/kouko/bunkazaihozon/index.html',\n",
       " 'http://www.city.abiko.chiba.jp/kenshin_yobousesshu/yobousesshu/index.html',\n",
       " 'http://www.city.abiko.chiba.jp/kenko/kenkou/koureisha/index.html',\n",
       " 'http://www.city.abiko.chiba.jp/kenko/kenkou/kodomo/yobousessyu/index.html',\n",
       " 'http://www.city.abiko.chiba.jp/shonenzei/zeikin/index.html',\n",
       " 'http://www.city.abiko.chiba.jp/shonenzei/nenkin/index.html',\n",
       " 'http://www.city.abiko.chiba.jp/joseiteate/kenkoufukushi/index.html',\n",
       " 'http://www.city.abiko.chiba.jp/jigyousha/jigyoushaboshu/reform_hojokin/index.html',\n",
       " 'http://www.city.abiko.chiba.jp/jigyousha/chushokigyou/shienseido/index.html',\n",
       " 'http://www.city.abiko.chiba.jp/jigyousha/shogaifukushi/shogaijitsusho/index.html',\n",
       " 'http://www.city.abiko.chiba.jp/jigyousha/nyusatsukeiyaku/keiyaku/index.html',\n",
       " 'http://www.city.abiko.chiba.jp/shisei/keikauhoushin/kenkofukushi/index.html',\n",
       " 'http://www.city.abiko.chiba.jp/shisei/keikauhoushin/kenkofukushi/kokuho-keikaku/index.html',\n",
       " 'http://www.city.abiko.chiba.jp/shisei/shingi_iinkai/kenkofukushi/index.html',\n",
       " 'http://www.city.abiko.chiba.jp/shisei/toshiseibi/jyuukyohyouji/edaban/index.html',\n",
       " 'http://www.city.abiko.chiba.jp/shisei/zaisei/chihoukouhuzei/index.html',\n",
       " 'http://www.city.abiko.chiba.jp/shisei/gyoseikaikaku/mineikaseido/index.html',\n",
       " 'http://www.city.abiko.chiba.jp/shisei/gyoseikaikaku/mineikaseido/results/index.html',\n",
       " 'http://www.city.abiko.chiba.jp/shisei/kojinjohohogo/johokoukai/index.html',\n",
       " 'http://www.city.abiko.chiba.jp/jigyousha/shugyoshien/index.html',\n",
       " 'http://www.city.abiko.chiba.jp/jigyousha/koujikensa/index.html',\n",
       " 'http://www.city.abiko.chiba.jp/jigyousha/tax/index.html',\n",
       " 'http://www.city.abiko.chiba.jp/jigyousha/sougyosha/index.html',\n",
       " 'http://www.city.abiko.chiba.jp/kurashi/suidou/josuidou/tetsuduki_ryokin/suidou_ryokin/index.html',\n",
       " 'http://www.city.abiko.chiba.jp/event/culture_art/jyosei/index.html',\n",
       " 'http://www.city.abiko.chiba.jp/kenko/kenkou/index.html',\n",
       " 'http://www.city.abiko.chiba.jp/kenko/kenkou/hoken_center/kenkotoshirengo/index.html',\n",
       " 'http://www.city.abiko.chiba.jp/kenko/kenkou/hoken_center/kyoshitsu/index.html',\n",
       " 'http://www.city.abiko.chiba.jp/kenko/kenkou/seijin/yobousessyu/index.html',\n",
       " 'http://www.city.abiko.chiba.jp/event/event/kenko/index.html',\n",
       " 'http://www.city.abiko.chiba.jp/event/event_moyooshi/kenkofair/index.html',\n",
       " 'http://www.city.abiko.chiba.jp/anshin/bousai/hinan/youshiensya/index.html',\n",
       " 'http://www.city.abiko.chiba.jp/anshin/houshasenkanren/kukan/koukyoshisetsu/taiki_abiko/fukushishisetsu/index.html',\n",
       " 'http://www.city.abiko.chiba.jp/anshin/houshasenkanren/kukan/koukyoshisetsu/taiki_kohoku/fukushishisetsu/index.html',\n",
       " 'http://www.city.abiko.chiba.jp/anshin/houshasenkanren/kodomo_kenko/eikyo/index.html',\n",
       " 'http://www.city.abiko.chiba.jp/kenko/COVID-19/support/jigyousya/index.html',\n",
       " 'http://www.city.abiko.chiba.jp/kenko/COVID-19/support/lifesupport/index.html',\n",
       " 'http://www.city.abiko.chiba.jp/anshin/higashinihon/shien_joho/index.html',\n",
       " 'http://www.city.abiko.chiba.jp/kurashi/shugyoshien/index.html',\n",
       " 'http://www.city.abiko.chiba.jp/kurashi/marriage/index.html',\n",
       " 'http://www.city.abiko.chiba.jp/kurashi/shikatsu_jichikai/koubohojokin/index.html',\n",
       " 'http://www.city.abiko.chiba.jp/kurashi/faq/zei_hoken/nenkin/index.html',\n",
       " 'http://www.city.abiko.chiba.jp/kurashi/faq/zei_hoken/kokuminkenkohoken/index.html',\n",
       " 'http://www.city.abiko.chiba.jp/kurashi/faq/zei_hoken/zeikinn/index.html',\n",
       " 'http://www.city.abiko.chiba.jp/kurashi/faq/zei_hoken/zeikinn/keijidousha/index.html',\n",
       " 'http://www.city.abiko.chiba.jp/kurashi/faq/zei_hoken/zeikinn/houjin/index.html',\n",
       " 'http://www.city.abiko.chiba.jp/kurashi/faq/zei_hoken/zeikinn/nouzei_kouza/index.html',\n",
       " 'http://www.city.abiko.chiba.jp/kurashi/faq/zei_hoken/zeikinn/kotei_toshi/index.html',\n",
       " 'http://www.city.abiko.chiba.jp/kurashi/faq/zei_hoken/zeikinn/kojin/index.html',\n",
       " 'http://www.city.abiko.chiba.jp/kurashi/faq/zei_hoken/zeikinn/shoumei_etsuran/index.html']"
      ]
     },
     "execution_count": 7,
     "metadata": {},
     "output_type": "execute_result"
    }
   ],
   "source": [
    "df[df['status']==6]['url'].to_list()"
   ]
  }
 ],
 "metadata": {
  "kernelspec": {
   "display_name": "Python 3 (ipykernel)",
   "language": "python",
   "name": "python3"
  },
  "language_info": {
   "codemirror_mode": {
    "name": "ipython",
    "version": 3
   },
   "file_extension": ".py",
   "mimetype": "text/x-python",
   "name": "python",
   "nbconvert_exporter": "python",
   "pygments_lexer": "ipython3",
   "version": "3.10.8"
  },
  "orig_nbformat": 4
 },
 "nbformat": 4,
 "nbformat_minor": 2
}
