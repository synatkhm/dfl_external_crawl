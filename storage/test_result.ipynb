{
 "cells": [
  {
   "cell_type": "code",
   "execution_count": 1,
   "metadata": {},
   "outputs": [],
   "source": [
    "import pandas as pd"
   ]
  },
  {
   "cell_type": "code",
   "execution_count": 5,
   "metadata": {},
   "outputs": [],
   "source": [
    "df=pd.read_json('crawl_new_aid/result_30_crawl_new_aid.json')"
   ]
  },
  {
   "cell_type": "code",
   "execution_count": 8,
   "metadata": {},
   "outputs": [
    {
     "data": {
      "text/plain": [
       "'<h1>マイナンバー制度</h1><ul class=\"norcor\">\\n<li><a href=\"/kurashi/mynumber/oss.html\">令和5年2月6日から引越しワンストップサービスがスタート</a>\\n\\n</li>\\n<li><a href=\"/kurashi/mynumber/messagevideo.html\">マイナンバーカードの普及促進に関する総務大臣・デジタル大臣メッセージ動画が公開されました！</a>\\n\\n</li>\\n<li><a href=\"/kurashi/mynumber/abk10002000620220131.html\">マイナンバーカード有効期間の基準年齢の取り扱いが変更になります</a>\\n\\n</li>\\n<li><a href=\"/kurashi/mynumber/konbini_qanda.html\">コンビニ交付サービスのよくある質問</a>\\n\\n</li>\\n<li><a href=\"/kurashi/mynumber/conveni.html\">コンビニで各種証明書が取得できます（コンビニ交付サービス）</a>\\n\\n</li>\\n<li><a href=\"/kurashi/mynumber/mynumbercard.html\">こんなとき、あってよかった！マイナンバーカード</a>\\n\\n</li>\\n<li><a href=\"/kurashi/mynumber/mynapoint.html\">マイナポイント第2弾！\\u3000マイナポイントの申込期限は5月末まで！</a>\\n\\n</li>\\n<li><a href=\"/kurashi/mynumber/myno_pro/index.html\">マイナンバーカードの手続き</a>\\n\\n</li>\\n<li><a href=\"/kurashi/mynumber/denshishomei/index.html\">公的個人認証サービス（電子証明書）</a>\\n\\n</li>\\n<li><a href=\"/kurashi/mynumber/oshirase.html\">社会保障・税番号制度「マイナンバー」のお知らせ</a>\\n\\n</li>\\n<li><a href=\"/kurashi/mynumber/abk100010001.html\">平成28年1月からマイナンバー(個人番号)の利用が始まります</a>\\n\\n</li>\\n<li><a href=\"/kurashi/mynumber/dokujiriyoujimu.html\">マイナンバーの独自利用事務について</a>\\n\\n</li>\\n<li><a href=\"/kurashi/mynumber/PIA.html\">特定個人情報保護評価</a>\\n\\n</li>\\n<li><a href=\"/kurashi/mynumber/tyuuikanki.html\">マイナンバー制度に便乗した不正な勧誘や個人情報の取得にご注意ください</a>\\n\\n</li>\\n<li><a href=\"/kurashi/mynumber/mynaportal.html\">マイナポータル用端末の設置場所一覧</a>\\n\\n</li>\\n</ul><div class=\"guidance\"><img src=\"/images/spacer.gif\" alt=\"本文ここまで\" width=\"1\" height=\"1\"></div>'"
      ]
     },
     "execution_count": 8,
     "metadata": {},
     "output_type": "execute_result"
    }
   ],
   "source": [
    "df[ 'contents'][1]"
   ]
  }
 ],
 "metadata": {
  "kernelspec": {
   "display_name": "Python 3 (ipykernel)",
   "language": "python",
   "name": "python3"
  },
  "language_info": {
   "codemirror_mode": {
    "name": "ipython",
    "version": 3
   },
   "file_extension": ".py",
   "mimetype": "text/x-python",
   "name": "python",
   "nbconvert_exporter": "python",
   "pygments_lexer": "ipython3",
   "version": "3.10.8"
  },
  "orig_nbformat": 4
 },
 "nbformat": 4,
 "nbformat_minor": 2
}
